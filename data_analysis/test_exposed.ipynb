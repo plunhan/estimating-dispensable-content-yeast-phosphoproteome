{
 "cells": [
  {
   "cell_type": "code",
   "execution_count": 1,
   "id": "7cd98dde-60d0-44fe-b743-2bf7edd34750",
   "metadata": {},
   "outputs": [],
   "source": [
    "'''\n",
    "Categorize conditional p-sites, universal p-sites, and random S/T according to the exposure\n",
    "and compare the evolutionary rate in each exposure category. \n",
    "'''\n",
    "\n",
    "import numpy as np\n",
    "import pandas as pd\n",
    "import pickle\n",
    "from lib_import_tools import map_protein_id_to_locus_id\n",
    "from pathlib import Path\n",
    "from plot_tools import plot_consurf_exposure\n",
    "from proteomic_tools import (retrieve_references_by_residue_type, \n",
    "\t\t\t\t\t\t\t get_phosphosites_given_perturbations,\n",
    "                             retrieve_ConSurf_score, \n",
    "\t\t\t\t\t\t\t sample_random_sites, \n",
    "\t\t\t\t\t\t\t retrieve_references_by_order, \n",
    "\t\t\t\t\t\t\t calculate_exposure_consurf)"
   ]
  },
  {
   "cell_type": "code",
   "execution_count": 26,
   "id": "bcc2a892-3958-4382-8097-42f09718dfe9",
   "metadata": {},
   "outputs": [],
   "source": [
    "def default_list_dict():\n",
    "    return defaultdict(list)\n",
    "\n",
    "def default_str_dict():\n",
    "    return defaultdict(str)\n",
    "\n",
    "def parse_rsa_d(inPath, IDMappingDict, method='maximum'):\n",
    "    # method can be average or maximum\n",
    "    aaInfo_all, RSAInfo_all, deltaRSAInfo_all = pickle.load(open(inPath, 'rb'))\n",
    "    RSAInfo_filtered = {}\n",
    "    if method == \"maximum\":\n",
    "        for protein, residues in RSAInfo_all.items():\n",
    "            RSAInfo_filtered[protein] = {resnum: max(RSAs) for resnum, RSAs in residues.items()}\n",
    "    elif method == \"average\":\n",
    "        for protein, residues in RSAInfo_all.items():\n",
    "            RSAInfo_filtered[protein] = {resnum: sum(RSAs) / len(RSAs) for resnum, RSAs in residues.items()}\n",
    "    elif method == \"minimum\":\n",
    "        for protein, residues in RSAInfo_all.items():\n",
    "            RSAInfo_filtered[protein] = {resnum: min(RSAs) for resnum, RSAs in residues.items()}\n",
    "    deltaRSAInfo_filtered = {}\n",
    "    for protein, residues in deltaRSAInfo_all.items():\n",
    "        deltaRSAInfo_filtered[protein] = {resnum: any(deltaRSA > 0 for deltaRSA in deltaRSAs) for resnum, deltaRSAs in residues.items()}\n",
    "    aaInfo_all = {IDMappingDict[key]: value for key, value in aaInfo_all.items() if key in IDMappingDict}\n",
    "    RSAInfo_filtered = {IDMappingDict[key]: value for key, value in RSAInfo_filtered.items() if key in IDMappingDict}\n",
    "    deltaRSAInfo_filtered = {IDMappingDict[key]: value for key, value in deltaRSAInfo_filtered.items() if key in IDMappingDict}\n",
    "    return aaInfo_all, RSAInfo_filtered, deltaRSAInfo_filtered\n",
    "\n",
    "def calculate_exposed_consurf(exposed_residues_consurf_d: dict[str, float], \n",
    "                              sites_d: dict[str, set[str]],\n",
    "                              consurf_d: dict[str, dict[int, float]], \n",
    "                              diso: dict[str, dict[int, float]],\n",
    "                              aaInfo: dict[str, dict[int, str]], \n",
    "                              RSAInfo: dict[str, dict[int, float]], \n",
    "                              dRSAInfo: dict[str, dict[int, float]]) -> dict[str, float]:\n",
    "    for key, sites in sites_d.items(): \n",
    "        if key == 'randomAll':\n",
    "            sample_residues = 'ACDEFGHIKLMNPQRSTVWY'\n",
    "        else:\n",
    "            sample_residues = 'ST'\n",
    "        interfacial_psite = []\n",
    "        exposed_psite = []\n",
    "        buried_psite = []\n",
    "        psites_ST = retrieve_references_by_residue_type(sites, sample_residues)\n",
    "        psites_dis = retrieve_references_by_order(psites_ST, diso, 'disordered')\n",
    "        for psite in psites_dis: \n",
    "            systematic_name, site = psite.split('_')\n",
    "            if systematic_name in ['YKL021C', 'YDR098C', 'YMR112C']:\n",
    "                continue\n",
    "            aa = site[0]\n",
    "            position = int(site[1:])\n",
    "            try: \n",
    "                if dRSAInfo[systematic_name][position] > 0:\n",
    "                    interfacial_psite.append(psite)\n",
    "                elif RSAInfo[systematic_name][position] > 0.25:\n",
    "                    exposed_psite.append(psite)\n",
    "                elif RSAInfo[systematic_name][position] <= 0.25:\n",
    "                    buried_psite.append(psite)\n",
    "            except KeyError:\n",
    "                continue\n",
    "        _, consurf_exposed = retrieve_ConSurf_score(exposed_psite, consurf_d)\n",
    "        _, consurf_interfacial = retrieve_ConSurf_score(buried_psite, consurf_d)\n",
    "        _, consurf_buried = retrieve_ConSurf_score(interfacial_psite, consurf_d)\n",
    "        print(key, len(consurf_exposed), np.median(consurf_exposed), len(consurf_interfacial), np.median(consurf_interfacial), len(consurf_buried), np.median(consurf_buried))\n",
    "        print(np.median([ele for ls in [consurf_exposed, consurf_interfacial, consurf_buried] for ele in ls]))\n",
    "        exposed_residues_consurf_d[key] = np.median(consurf_exposed)\n",
    "    return exposed_residues_consurf_d"
   ]
  },
  {
   "cell_type": "code",
   "execution_count": 16,
   "id": "840475d3-7a5f-47d5-9d4b-f1e3b5bf5c84",
   "metadata": {},
   "outputs": [],
   "source": [
    "def calculate_all_consurf(all_residues_consurf_d: dict[str, float], \n",
    "                          sites_d: dict[str, set[str]],\n",
    "                          consurf_d: dict[str, dict[int, float]], \n",
    "                          diso: dict[str, dict[int, float]]) -> dict[str, float]:\n",
    "    for key, sites in sites_d.items(): \n",
    "        if key == 'randomAll':\n",
    "            sample_residues = 'ACDEFGHIKLMNPQRSTVWY'\n",
    "        else:\n",
    "            sample_residues = 'ST'\n",
    "        psites_ST = retrieve_references_by_residue_type(sites, sample_residues)\n",
    "        psites_dis = retrieve_references_by_order(psites_ST, diso, 'disordered')\n",
    "        _, consurf_all = retrieve_ConSurf_score(psites_dis, consurf_d)\n",
    "        all_residues_consurf_d[key] = np.median(consurf_all)\n",
    "    return all_residues_consurf_d"
   ]
  },
  {
   "cell_type": "code",
   "execution_count": 3,
   "id": "616ffcaa-81c6-43cc-95e7-8d54fc6c8e44",
   "metadata": {},
   "outputs": [],
   "source": [
    "method = 'maximum'\n",
    "\n",
    "figFmt = 'jpg'\n",
    "\n",
    "sample_residues = 'ST'\n",
    "\n",
    "dataDir = Path('../../data')\n",
    "\n",
    "extDir = dataDir / 'external'\n",
    "\n",
    "procDir = dataDir / 'processed'\n",
    "\n",
    "paperDir = procDir / 'paper'\n",
    "\n",
    "# input files\n",
    "IDMappingFile = extDir / 'YEAST_559292_idmapping.dat'\n",
    "ultradeepPKL = paperDir / 'ultradeep_reference_phosphoproteome.pkl'\n",
    "phosStresPKL = paperDir / 'quantitative_phosphosites.pkl'\n",
    "consurfPKL = paperDir / 'consurf_all.pkl'\n",
    "disoPKL = paperDir / 'diso_all.pkl'\n",
    "sequencePKL = paperDir / 'Scer_seq.pkl'\n",
    "sgdPKL = paperDir / 'SGD.pkl'\n",
    "biogridPKL = paperDir / 'BioGRID.pkl'\n",
    "lanz90PKL = paperDir / 'lanz90.pkl'\n",
    "rsa_pkl = procDir / 'RSA_dicts.pkl'\n",
    "\n",
    "# output files\n",
    "Fig6 = paperDir / f'Figure 6 {method}.jpg'\n",
    "\n",
    "IDMappingDict = map_protein_id_to_locus_id(IDMappingFile)\n",
    "ultradeep = pickle.load(open(ultradeepPKL, 'rb'))\n",
    "phosStres = pickle.load(open(phosStresPKL, 'rb'))\n",
    "consurf = pickle.load(open(consurfPKL, 'rb'))\n",
    "diso = pickle.load(open(disoPKL, 'rb'))\n",
    "sequences = pickle.load(open(sequencePKL, 'rb'))\n",
    "sgd = pickle.load(open(sgdPKL, 'rb'))\n",
    "biogrid = pickle.load(open(biogridPKL, 'rb'))\n",
    "lanz90 = pickle.load(open(lanz90PKL, 'rb'))\n",
    "aaInfo, RSAInfo, dRSAInfo = parse_rsa_d(rsa_pkl, IDMappingDict, method=method)"
   ]
  },
  {
   "cell_type": "code",
   "execution_count": 4,
   "id": "c0aaf359-6e77-4b6b-bb2f-d388892f11f9",
   "metadata": {},
   "outputs": [],
   "source": [
    "phosStres = {key: retrieve_references_by_residue_type(references, sample_residues) for key, references in phosStres.items()}\n",
    "cond_psites = get_phosphosites_given_perturbations(phosStres, list(range(1, 11)))\n",
    "univ_psites = get_phosphosites_given_perturbations(phosStres, list(range(92, 102)))\n",
    "all_psites = get_phosphosites_given_perturbations(phosStres, list(range(1, 102)))\n",
    "\n",
    "exposed_consurf_d = {}\n",
    "\n",
    "exclusions = ultradeep.union(sgd, biogrid) # All reported p-sites\n",
    "randomST = sample_random_sites(ultradeep, ultradeep, sequences, sample_residues)\n",
    "randomST_all = sample_random_sites(ultradeep, exclusions, sequences, sample_residues)\n",
    "randomAll = sample_random_sites(ultradeep, exclusions, sequences, 'ACDEFGHIKLMNPQRSTVWY')"
   ]
  },
  {
   "cell_type": "code",
   "execution_count": 6,
   "id": "89d9c9db-66c8-417f-8460-314883d27caf",
   "metadata": {},
   "outputs": [
    {
     "data": {
      "text/plain": [
       "2165818"
      ]
     },
     "execution_count": 6,
     "metadata": {},
     "output_type": "execute_result"
    }
   ],
   "source": [
    "len(randomAll)"
   ]
  },
  {
   "cell_type": "code",
   "execution_count": 27,
   "id": "8291b9bd-01bd-4a5c-83fe-2f0cce3d9bb6",
   "metadata": {},
   "outputs": [
    {
     "name": "stdout",
     "output_type": "stream",
     "text": [
      "cond 1159 0.4513 15 -0.2239 62 -0.007850000000000001\n",
      "0.41755\n",
      "univ 904 0.1683 10 0.6661 76 -0.07055\n",
      "0.1411\n",
      "all 3913 0.3151 45 0.1174 244 -0.037000000000000005\n",
      "0.2948\n",
      "biogrid 2310 0.25655 28 -0.023799999999999995 198 0.1285\n",
      "0.22244999999999998\n",
      "sgd 4663 0.3394 58 -0.2468 346 0.01585\n",
      "0.3102\n",
      "lanz90 3146 0.33485 39 -0.4422 241 0.0809\n",
      "0.3029\n",
      "randomST 12871 0.3352 356 -0.35845 1226 0.07744999999999999\n",
      "0.2945\n",
      "randomST_all 11147 0.3206 331 -0.3599 1077 0.0649\n",
      "0.2772\n",
      "randomAll 92727 0.2266 2438 -0.42725 9972 -0.1445\n",
      "0.1673\n"
     ]
    }
   ],
   "source": [
    "sites_d = {\n",
    "    'cond': cond_psites, \n",
    "    'univ': univ_psites, \n",
    "    'all': all_psites, \n",
    "    'biogrid': biogrid,\n",
    "    'sgd': sgd, \n",
    "    'lanz90': lanz90, \n",
    "    'randomST': randomST,\n",
    "    'randomST_all': randomST_all,\n",
    "    'randomAll': randomAll\n",
    "}\n",
    "\n",
    "exposed_consurf_d = calculate_exposed_consurf(exposed_consurf_d, \n",
    "                                              sites_d,\n",
    "                                              consurf, \n",
    "                                              diso, \n",
    "                                              aaInfo, \n",
    "                                              RSAInfo, \n",
    "                                              dRSAInfo)"
   ]
  },
  {
   "cell_type": "code",
   "execution_count": null,
   "id": "e82da27d-2465-4733-9caa-b2051ef4e2f6",
   "metadata": {},
   "outputs": [
    {
     "name": "stdout",
     "output_type": "stream",
     "text": [
      "cond 1159\n",
      "univ 904\n",
      "all 3913\n",
      "biogrid 2310\n",
      "sgd 4663\n",
      "lanz90 3146\n",
      "randomST 12871\n",
      "randomST_all 11147\n",
      "randomAll 92727\n",
      "cond:\t0.4513\n",
      "univ:\t0.1683\n",
      "all:\t0.3151\n",
      "biogrid:\t0.25655\n",
      "sgd:\t0.3394\n",
      "lanz90:\t0.33485\n",
      "randomST:\t0.3352\n",
      "randomST_all:\t0.3206\n",
      "randomAll:\t0.2266\n"
     ]
    }
   ],
   "source": [
    "all_consurf_d = {}\n",
    "all_consurf_d = calculate_all_consurf(all_consurf_d,\n",
    "                                      sites_d,\n",
    "                                      consurf,\n",
    "                                      diso)\n",
    "\n",
    "for key, consurf_median in exposed_consurf_d.items():\n",
    "    print(f'{key}:\\t{consurf_median}')"
   ]
  },
  {
   "cell_type": "code",
   "execution_count": 18,
   "id": "40b19791-43bf-417d-9155-e449407a5c64",
   "metadata": {},
   "outputs": [
    {
     "name": "stdout",
     "output_type": "stream",
     "text": [
      "{'cond': np.float64(0.3463), 'univ': np.float64(0.1163), 'all': np.float64(0.25734999999999997), 'biogrid': np.float64(0.1991), 'sgd': np.float64(0.2736), 'lanz90': np.float64(0.2659), 'randomST': np.float64(0.2958), 'randomST_all': np.float64(0.29075), 'randomAll': np.float64(0.2257)}\n"
     ]
    }
   ],
   "source": [
    "print(all_consurf_d)"
   ]
  }
 ],
 "metadata": {
  "kernelspec": {
   "display_name": "Python 3 (ipykernel)",
   "language": "python",
   "name": "python3"
  },
  "language_info": {
   "codemirror_mode": {
    "name": "ipython",
    "version": 3
   },
   "file_extension": ".py",
   "mimetype": "text/x-python",
   "name": "python",
   "nbconvert_exporter": "python",
   "pygments_lexer": "ipython3",
   "version": "3.13.5"
  }
 },
 "nbformat": 4,
 "nbformat_minor": 5
}
